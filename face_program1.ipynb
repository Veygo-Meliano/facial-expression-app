{
 "cells": [
  {
   "cell_type": "code",
   "execution_count": null,
   "id": "d3e8ae6f",
   "metadata": {},
   "outputs": [],
   "source": [
    "import os\n",
    "import tensorflow as tf\n",
    "from tensorflow.keras.preprocessing.image import ImageDataGenerator\n",
    "from tensorflow.keras import Sequential\n",
    "from tensorflow.keras.preprocessing import image"
   ]
  },
  {
   "cell_type": "code",
   "execution_count": null,
   "id": "d92110c5",
   "metadata": {},
   "outputs": [],
   "source": [
    "os.environ['TF_FORCE_GPU_ALLOW_GROWTH'] = 'true'\n",
    "data_path = '/home/vego/Documents/skripsi/program/dataset/CK+48'\n",
    "data_dir_list = os.listdir(data_path)\n",
    "print(data_dir_list)"
   ]
  },
  {
   "cell_type": "code",
   "execution_count": null,
   "id": "9b1e1e71",
   "metadata": {},
   "outputs": [],
   "source": [
    "aug_image = ImageDataGenerator(rescale=1./255,\n",
    "                                validation_split=0.3,\n",
    "                                rotation_range=20,\n",
    "                                width_shift_range=0.1,\n",
    "                                height_shift_range=0.1,\n",
    "                                zoom_range=0.2,  \n",
    "                                horizontal_flip=True,\n",
    "                                shear_range=0.2,\n",
    "                                fill_mode='nearest')"
   ]
  },
  {
   "cell_type": "code",
   "execution_count": null,
   "id": "076f1d0e",
   "metadata": {},
   "outputs": [],
   "source": [
    "size = 48\n",
    "batch = 32\n",
    "\n",
    "train_data = aug_image.flow_from_directory(data_path,\n",
    "                                          #color_mode='grayscale',\n",
    "                                          target_size=(size,size),\n",
    "                                          batch_size=batch,\n",
    "                                          class_mode='categorical',\n",
    "                                          subset='training')\n",
    "\n",
    "valid_data = aug_image.flow_from_directory(data_path,\n",
    "                                          #color_mode='grayscale',\n",
    "                                          target_size=(size,size),\n",
    "                                          batch_size=batch,\n",
    "                                          class_mode='categorical',\n",
    "                                          subset='validation',\n",
    "                                          shuffle=False)\n",
    "\n",
    "test_data = aug_image.flow_from_directory(data_path,\n",
    "                                         #color_mode='grayscale',\n",
    "                                         target_size=(size,size),\n",
    "                                         batch_size=1,\n",
    "                                         shuffle=False)"
   ]
  },
  {
   "cell_type": "code",
   "execution_count": null,
   "id": "13e23269",
   "metadata": {},
   "outputs": [],
   "source": [
    "from tensorflow.keras.layers import Dense,Flatten,MaxPool2D,Conv2D,Dropout,MaxPooling2D,BatchNormalization"
   ]
  },
  {
   "cell_type": "code",
   "execution_count": null,
   "id": "88b7f6ba",
   "metadata": {
    "scrolled": true
   },
   "outputs": [],
   "source": [
    "model=Sequential()\n",
    "\n",
    "model.add(Conv2D(filters=32,kernel_size=4,activation=\"relu\",input_shape=(48,48,3)))\n",
    "model.add(MaxPooling2D(pool_size=2))\n",
    "\n",
    "model.add(Conv2D(filters=32,kernel_size=4,activation=\"relu\"))\n",
    "model.add(MaxPooling2D(pool_size=2))\n",
    "\n",
    "model.add(Conv2D(filters=64,kernel_size=4,activation=\"relu\"))\n",
    "model.add(MaxPooling2D(pool_size=2))\n",
    "\n",
    "model.add(Dropout(0.2))\n",
    "model.add(Flatten())\n",
    "model.add(Dense(64,activation=\"relu\"))\n",
    "model.add(Dropout(0.2))\n",
    "model.add(Dense(7,activation=\"softmax\"))\n",
    "model.summary()"
   ]
  },
  {
   "cell_type": "code",
   "execution_count": null,
   "id": "b9432507",
   "metadata": {},
   "outputs": [],
   "source": [
    "from tensorflow.keras.optimizers import Adam\n",
    "from keras.callbacks import EarlyStopping, ModelCheckpoint"
   ]
  },
  {
   "cell_type": "code",
   "execution_count": null,
   "id": "278d59bf",
   "metadata": {},
   "outputs": [],
   "source": [
    "# compile model dengan 'adam' optimize loss function 'binary_crossentropy'\n",
    "model.compile(loss='binary_crossentropy',\n",
    "             optimizer=Adam(learning_rate=0.001),\n",
    "             metrics=['accuracy'])"
   ]
  },
  {
   "cell_type": "code",
   "execution_count": null,
   "id": "da9798bb",
   "metadata": {
    "scrolled": false
   },
   "outputs": [],
   "source": [
    "# save_model = 'my_model.h5'\n",
    "\n",
    "# checkpoint = ModelCheckpoint(save_model, monitor='val_loss', verbose=1, save_best_only=True, mode='auto')\n",
    "# callback_list=[checkpoint]\n",
    "\n",
    "# latih model dengan model.fit\n",
    "hist = model.fit(train_data,\n",
    "          batch_size=batch,\n",
    "          epochs=100, # tambahkan epoch jika akurasi model belum optimal\n",
    "          validation_data=valid_data,\n",
    "          #callbacks=callback_list,\n",
    "          verbose=2)\n",
    "hist"
   ]
  },
  {
   "cell_type": "code",
   "execution_count": null,
   "id": "a4072c48",
   "metadata": {},
   "outputs": [],
   "source": [
    "from keras.models import load_model\n",
    "import numpy as np"
   ]
  },
  {
   "cell_type": "code",
   "execution_count": null,
   "id": "22f0f9e0",
   "metadata": {},
   "outputs": [],
   "source": [
    "model_path = '/home/vego/Documents/skripsi/program/my_model.h5'\n",
    "model = load_model(model_path)"
   ]
  },
  {
   "cell_type": "code",
   "execution_count": null,
   "id": "1b1a1f8c",
   "metadata": {},
   "outputs": [],
   "source": [
    "# menggunakan model untuk mengklasifikasikan gambar kamar\n",
    "\n",
    "import numpy as np \n",
    "from tensorflow.keras.preprocessing import image\n",
    "import matplotlib.pyplot as plt\n",
    "import matplotlib.image as mpimg\n",
    "%matplotlib inline\n",
    "\n",
    "# masukkan file nama gambar \n",
    "path = '/home/vego/Documents/skripsi/program/dataset/uji/angry/S026_003_00000013.png'\n",
    "img = tf.keras.preprocessing.image.load_img(path, target_size=(48,48))\n",
    "imgplot = plt.imshow(img)\n",
    "x = image.img_to_array(img)\n",
    "x = tf.image.resize(x, [48,48])\n",
    "x = np.expand_dims(x, axis=0)\n",
    "\n",
    "classes={\n",
    "    0: 'Angry',\n",
    "    1: 'Contempt',\n",
    "    2: 'Disgust',\n",
    "    3: 'Fear',\n",
    "    4: 'Happy',\n",
    "    5: 'Sadness',\n",
    "    6: 'Surprise'\n",
    "}\n",
    "images = np.vstack([x])\n",
    "pred = model.predict(images)\n",
    "\n",
    "class_names = classes.values()\n",
    "class_name = list(class_names)\n",
    "\n",
    "result =class_name[np.argmax(pred)]\n",
    "print(path)\n",
    "print(result)"
   ]
  },
  {
   "cell_type": "code",
   "execution_count": null,
   "id": "bd60b9c9",
   "metadata": {},
   "outputs": [],
   "source": [
    "import numpy as np \n",
    "from tensorflow.keras.preprocessing import image\n",
    "import matplotlib.pyplot as plt\n",
    "import matplotlib.image as mpimg\n",
    "%matplotlib inline\n",
    "\n",
    "train_loss=hist.history['loss']\n",
    "val_loss=hist.history['val_loss']\n",
    "train_acc=hist.history['accuracy']\n",
    "val_acc=hist.history['val_accuracy']\n",
    "\n",
    "epochs = range(len(train_acc))\n",
    "\n",
    "plt.plot(epochs,train_loss,'r', label='train_loss')\n",
    "plt.plot(epochs,val_loss,'b', label='val_loss')\n",
    "plt.title('train_loss vs val_loss')\n",
    "plt.legend()\n",
    "plt.figure()\n",
    "\n",
    "plt.plot(epochs,train_acc,'r', label='train_acc')\n",
    "plt.plot(epochs,val_acc,'b', label='val_acc')\n",
    "plt.title('train_acc vs val_acc')\n",
    "plt.legend()\n",
    "plt.figure()"
   ]
  },
  {
   "cell_type": "code",
   "execution_count": null,
   "id": "c24664d5",
   "metadata": {},
   "outputs": [],
   "source": []
  }
 ],
 "metadata": {
  "kernelspec": {
   "display_name": "Python 3 (ipykernel)",
   "language": "python",
   "name": "python3"
  },
  "language_info": {
   "codemirror_mode": {
    "name": "ipython",
    "version": 3
   },
   "file_extension": ".py",
   "mimetype": "text/x-python",
   "name": "python",
   "nbconvert_exporter": "python",
   "pygments_lexer": "ipython3",
   "version": "3.10.4"
  }
 },
 "nbformat": 4,
 "nbformat_minor": 5
}
